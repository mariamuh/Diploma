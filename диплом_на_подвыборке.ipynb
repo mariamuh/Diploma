{
  "nbformat": 4,
  "nbformat_minor": 0,
  "metadata": {
    "colab": {
      "provenance": []
    },
    "kernelspec": {
      "name": "python3",
      "display_name": "Python 3"
    },
    "language_info": {
      "name": "python"
    }
  },
  "cells": [
    {
      "cell_type": "code",
      "execution_count": null,
      "metadata": {
        "colab": {
          "base_uri": "https://localhost:8080/"
        },
        "id": "jtMB7HumGq3o",
        "outputId": "3dd5a5b4-c659-4960-fac0-64bdc402afc0"
      },
      "outputs": [
        {
          "output_type": "stream",
          "name": "stdout",
          "text": [
            "Mounted at /content/drive\n"
          ]
        }
      ],
      "source": [
        "# импортируем библиотеки\n",
        "import pandas as pd\n",
        "import numpy as np\n",
        "import sqlite3\n",
        "from datetime import datetime\n",
        "import matplotlib.pyplot as plt\n",
        "from sklearn.preprocessing import MinMaxScaler\n",
        "from sklearn import tree\n",
        "from sklearn.metrics import confusion_matrix\n",
        "from sklearn.utils import shuffle\n",
        "import statistics\n",
        "\n",
        "# подключимся к диску\n",
        "from google.colab import drive\n",
        "drive.mount('/content/drive', force_remount=True)"
      ]
    },
    {
      "cell_type": "code",
      "source": [
        "# создадим сетки с долготами и широтами\n",
        "\n",
        "# координаты по оси X\n",
        "long_left = -119.5\n",
        "long_right = -117.5\n",
        "\n",
        "# координаты по оси Y\n",
        "lat_top = 39.007\n",
        "lat_bottom = 37.952\n",
        "\n",
        "# шаг Δx\n",
        "delta_long = 0.1\n",
        "\n",
        "# шаг Δy\n",
        "delta_lat = -0.07535714285714283\n",
        "\n",
        "# общее число шагов по сетке\n",
        "long_steps_total = 21\n",
        "lat_steps_total = 15\n",
        "\n",
        "# создадим массив со всеми долготами\n",
        "longitudes = np.arange(long_left, long_right + delta_long, delta_long)\n",
        "longitudes = np.repeat([longitudes], lat_steps_total, axis=0)\n",
        "longitudes = np.round(longitudes, 6)\n",
        "\n",
        "# создадим массив со всеми широтами\n",
        "latitudes = np.arange(lat_top, lat_bottom, delta_lat)\n",
        "# # отсоритуем сверху вниз\n",
        "latitudes = latitudes[np.argsort(-latitudes)]\n",
        "latitudes = np.repeat(latitudes.reshape(lat_steps_total, 1), long_steps_total, axis=1)\n",
        "latitudes = np.round(latitudes, 6)\n",
        "\n",
        "\n",
        "# создадим массив точек во времени, когда проводился расчет признаков (раз в 30 дней)\n",
        "first_data = np.datetime64('2009-08-07')\n",
        "last_data = np.datetime64('2023-01-26')\n",
        "time_step = 30\n",
        "time_steps_total = 165\n",
        "\n",
        "date_points = np.arange(first_data, last_data + time_step, time_step)"
      ],
      "metadata": {
        "id": "Z8g-DUyAGzyy"
      },
      "execution_count": null,
      "outputs": []
    },
    {
      "cell_type": "code",
      "source": [
        "# создадим датафрейм, куда будем сохранять признаки\n",
        "data = pd.DataFrame(columns=['Year', 'Month', 'Day', 'Longitude', 'Latitude', 'F4', 'F5', 'F6', 'S9', 'S11'])\n",
        "\n",
        "\n",
        "path = '/content/drive/MyDrive/диплом/data_subset'\n",
        "for i in range(0, time_steps_total):\n",
        "\n",
        "    # создадим массивы отдельно с годом, месяцем и днем проведения соответствующих расчетов признаков\n",
        "    year = np.repeat(date_points[i].astype(object).year, long_steps_total * lat_steps_total).reshape(lat_steps_total, long_steps_total)\n",
        "    month = np.repeat(date_points[i].astype(object).month, long_steps_total * lat_steps_total).reshape(lat_steps_total, long_steps_total)\n",
        "    day = np.repeat(date_points[i].astype(object).day, long_steps_total * lat_steps_total).reshape(lat_steps_total, long_steps_total)\n",
        "\n",
        "    # скачаем поля признаков, рассчитанные для соответствующей даты\n",
        "    f4 = pd.read_csv(f'{path}/GPS features/Student of divergence with T 360 and 360/F4_{i}.flt', sep=\"\\s+\", header=None, skiprows=1)\n",
        "    f5 = pd.read_csv(f'{path}/GPS features/Student of rotor with T 360 and 360/F5_{i}.flt', sep=\"\\s+\", header=None, skiprows=1)\n",
        "    f6 = pd.read_csv(f'{path}/GPS features/Student of shear with T 360 and 360/F6_{i}.flt', sep=\"\\s+\", header=None, skiprows=1)\n",
        "    s1 = pd.read_csv(f'{path}/Seismological features/Density of epicenters/S1_{i+81}.flt', sep=\"\\s+\", header=None, skiprows=1)\n",
        "    s8 = pd.read_csv(f'{path}/Seismological features/Quantile of density of epicenters/S8_{i+81}.flt', sep=\"\\s+\", header=None, skiprows=1)\n",
        "    s11 = pd.read_csv(f'{path}/Seismological features/Student of mean magnitude/S11_{i}.flt', sep=\"\\s+\", header=None, skiprows=1)\n",
        "\n",
        "    s9 = s1 / (s8 + 0.001)\n",
        "\n",
        "    # объединим год, месяц, день, долготу, широту и соответствующие им значения признаков в куб\n",
        "    features = np.dstack((year, month, day, longitudes, latitudes, f4, f5, f6, s9, s11))\n",
        "    # сделаем из куба двумерный массив, где каждая строчка состоит из года, месяца, дня, долготы, широты и соответствующих им значений признаков\n",
        "    features_2d = np.reshape(features, (-1, features.shape[-1]))\n",
        "\n",
        "    # добавим массив в общий датафрейм\n",
        "    data = data.append(pd.DataFrame(features_2d, columns=data.columns), ignore_index=True)\n",
        "\n",
        "\n",
        "data.head()"
      ],
      "metadata": {
        "id": "-ih3UxNE5zhy"
      },
      "execution_count": null,
      "outputs": []
    },
    {
      "cell_type": "code",
      "source": [
        "data.shape # число строк = 21 * 15 * 165 = 51 975"
      ],
      "metadata": {
        "colab": {
          "base_uri": "https://localhost:8080/"
        },
        "id": "7CF8pYQIGzv9",
        "outputId": "4153bc43-169a-43a7-e002-5d0f02ecb241"
      },
      "execution_count": null,
      "outputs": [
        {
          "output_type": "execute_result",
          "data": {
            "text/plain": [
              "(51975, 10)"
            ]
          },
          "metadata": {},
          "execution_count": 31
        }
      ]
    },
    {
      "cell_type": "code",
      "source": [
        "# удалим строки, в которых значения хотя бы одной из колонок F4, F5, F6 равны NaN\n",
        "data.dropna(subset=['F4', 'F5', 'F6'], how='any', inplace=True)\n",
        "data.reset_index(drop=True, inplace=True)\n",
        "\n",
        "data = data.astype({'Year': 'int64', 'Month': 'int64', 'Day': 'int64'})\n",
        "\n",
        "data.shape # 40 413 строк"
      ],
      "metadata": {
        "colab": {
          "base_uri": "https://localhost:8080/"
        },
        "id": "GyPMEhdK7gKq",
        "outputId": "d8028358-b1cf-48ec-86ca-510f33113944"
      },
      "execution_count": null,
      "outputs": [
        {
          "output_type": "execute_result",
          "data": {
            "text/plain": [
              "(40413, 10)"
            ]
          },
          "metadata": {},
          "execution_count": 32
        }
      ]
    },
    {
      "cell_type": "code",
      "source": [
        "data.to_excel(\"data_subset.xlsx\")"
      ],
      "metadata": {
        "id": "2rsQGGhcVhoF"
      },
      "execution_count": null,
      "outputs": []
    },
    {
      "cell_type": "code",
      "source": [
        "data = pd.read_excel('/content/drive/MyDrive/диплом/data_subset.xlsx')"
      ],
      "metadata": {
        "id": "F9hbGoStSzb5"
      },
      "execution_count": null,
      "outputs": []
    },
    {
      "cell_type": "markdown",
      "source": [
        "# Расчет целевой переменной"
      ],
      "metadata": {
        "id": "nGmrTwaSG0ro"
      }
    },
    {
      "cell_type": "code",
      "source": [
        "# загрузим каталог землетрясений М5.0+, произошедших в рассматриваемой области\n",
        "catalog = pd.read_csv(\"/content/drive/MyDrive/диплом/M5.0+ earthquakes in CA.txt\", sep=\"\\s+\")\n",
        "catalog.rename(columns={\"Class\": \"Magnitude\"}, inplace=True)\n",
        "\n",
        "# удалим землетрясения, произошедшие раньше 07.08.2009, т.к. первые признаки по GPS данным посчитаны для периода 08.07.2009-07.08.2009 (30 дней)\n",
        "indexes = catalog[(catalog['YYYY'] < 2009) | ((catalog['YYYY'] == 2009) & (catalog['MM'] <= 8) & (catalog['DD'] <= 7))].index\n",
        "catalog.drop(indexes, inplace=True)\n",
        "catalog.reset_index(drop=True, inplace=True)\n",
        "catalog.drop(['HH', 'mm', 'ssss'], axis=1, inplace=True)\n",
        "\n",
        "catalog.head()"
      ],
      "metadata": {
        "colab": {
          "base_uri": "https://localhost:8080/",
          "height": 206
        },
        "id": "uPW6RtdwG28u",
        "outputId": "dd4feba6-1906-42b5-9004-4a61deb6bf13"
      },
      "execution_count": null,
      "outputs": [
        {
          "output_type": "execute_result",
          "data": {
            "text/plain": [
              "   YYYY  MM  DD        LAT        LONG   Depth  Magnitude\n",
              "0  2009   9  20  32.370667 -115.261167   9.987       5.08\n",
              "1  2009  10   1  36.387833 -117.858667   3.985       5.00\n",
              "2  2009  10   3  36.391000 -117.860833  -1.770       5.19\n",
              "3  2009  12  30  32.464000 -115.189167   5.971       5.80\n",
              "4  2010   1  10  40.652000 -124.692500  28.737       6.50"
            ],
            "text/html": [
              "\n",
              "  <div id=\"df-7466607f-aef1-4451-bd4c-d9b9fba4c3db\">\n",
              "    <div class=\"colab-df-container\">\n",
              "      <div>\n",
              "<style scoped>\n",
              "    .dataframe tbody tr th:only-of-type {\n",
              "        vertical-align: middle;\n",
              "    }\n",
              "\n",
              "    .dataframe tbody tr th {\n",
              "        vertical-align: top;\n",
              "    }\n",
              "\n",
              "    .dataframe thead th {\n",
              "        text-align: right;\n",
              "    }\n",
              "</style>\n",
              "<table border=\"1\" class=\"dataframe\">\n",
              "  <thead>\n",
              "    <tr style=\"text-align: right;\">\n",
              "      <th></th>\n",
              "      <th>YYYY</th>\n",
              "      <th>MM</th>\n",
              "      <th>DD</th>\n",
              "      <th>LAT</th>\n",
              "      <th>LONG</th>\n",
              "      <th>Depth</th>\n",
              "      <th>Magnitude</th>\n",
              "    </tr>\n",
              "  </thead>\n",
              "  <tbody>\n",
              "    <tr>\n",
              "      <th>0</th>\n",
              "      <td>2009</td>\n",
              "      <td>9</td>\n",
              "      <td>20</td>\n",
              "      <td>32.370667</td>\n",
              "      <td>-115.261167</td>\n",
              "      <td>9.987</td>\n",
              "      <td>5.08</td>\n",
              "    </tr>\n",
              "    <tr>\n",
              "      <th>1</th>\n",
              "      <td>2009</td>\n",
              "      <td>10</td>\n",
              "      <td>1</td>\n",
              "      <td>36.387833</td>\n",
              "      <td>-117.858667</td>\n",
              "      <td>3.985</td>\n",
              "      <td>5.00</td>\n",
              "    </tr>\n",
              "    <tr>\n",
              "      <th>2</th>\n",
              "      <td>2009</td>\n",
              "      <td>10</td>\n",
              "      <td>3</td>\n",
              "      <td>36.391000</td>\n",
              "      <td>-117.860833</td>\n",
              "      <td>-1.770</td>\n",
              "      <td>5.19</td>\n",
              "    </tr>\n",
              "    <tr>\n",
              "      <th>3</th>\n",
              "      <td>2009</td>\n",
              "      <td>12</td>\n",
              "      <td>30</td>\n",
              "      <td>32.464000</td>\n",
              "      <td>-115.189167</td>\n",
              "      <td>5.971</td>\n",
              "      <td>5.80</td>\n",
              "    </tr>\n",
              "    <tr>\n",
              "      <th>4</th>\n",
              "      <td>2010</td>\n",
              "      <td>1</td>\n",
              "      <td>10</td>\n",
              "      <td>40.652000</td>\n",
              "      <td>-124.692500</td>\n",
              "      <td>28.737</td>\n",
              "      <td>6.50</td>\n",
              "    </tr>\n",
              "  </tbody>\n",
              "</table>\n",
              "</div>\n",
              "      <button class=\"colab-df-convert\" onclick=\"convertToInteractive('df-7466607f-aef1-4451-bd4c-d9b9fba4c3db')\"\n",
              "              title=\"Convert this dataframe to an interactive table.\"\n",
              "              style=\"display:none;\">\n",
              "        \n",
              "  <svg xmlns=\"http://www.w3.org/2000/svg\" height=\"24px\"viewBox=\"0 0 24 24\"\n",
              "       width=\"24px\">\n",
              "    <path d=\"M0 0h24v24H0V0z\" fill=\"none\"/>\n",
              "    <path d=\"M18.56 5.44l.94 2.06.94-2.06 2.06-.94-2.06-.94-.94-2.06-.94 2.06-2.06.94zm-11 1L8.5 8.5l.94-2.06 2.06-.94-2.06-.94L8.5 2.5l-.94 2.06-2.06.94zm10 10l.94 2.06.94-2.06 2.06-.94-2.06-.94-.94-2.06-.94 2.06-2.06.94z\"/><path d=\"M17.41 7.96l-1.37-1.37c-.4-.4-.92-.59-1.43-.59-.52 0-1.04.2-1.43.59L10.3 9.45l-7.72 7.72c-.78.78-.78 2.05 0 2.83L4 21.41c.39.39.9.59 1.41.59.51 0 1.02-.2 1.41-.59l7.78-7.78 2.81-2.81c.8-.78.8-2.07 0-2.86zM5.41 20L4 18.59l7.72-7.72 1.47 1.35L5.41 20z\"/>\n",
              "  </svg>\n",
              "      </button>\n",
              "      \n",
              "  <style>\n",
              "    .colab-df-container {\n",
              "      display:flex;\n",
              "      flex-wrap:wrap;\n",
              "      gap: 12px;\n",
              "    }\n",
              "\n",
              "    .colab-df-convert {\n",
              "      background-color: #E8F0FE;\n",
              "      border: none;\n",
              "      border-radius: 50%;\n",
              "      cursor: pointer;\n",
              "      display: none;\n",
              "      fill: #1967D2;\n",
              "      height: 32px;\n",
              "      padding: 0 0 0 0;\n",
              "      width: 32px;\n",
              "    }\n",
              "\n",
              "    .colab-df-convert:hover {\n",
              "      background-color: #E2EBFA;\n",
              "      box-shadow: 0px 1px 2px rgba(60, 64, 67, 0.3), 0px 1px 3px 1px rgba(60, 64, 67, 0.15);\n",
              "      fill: #174EA6;\n",
              "    }\n",
              "\n",
              "    [theme=dark] .colab-df-convert {\n",
              "      background-color: #3B4455;\n",
              "      fill: #D2E3FC;\n",
              "    }\n",
              "\n",
              "    [theme=dark] .colab-df-convert:hover {\n",
              "      background-color: #434B5C;\n",
              "      box-shadow: 0px 1px 3px 1px rgba(0, 0, 0, 0.15);\n",
              "      filter: drop-shadow(0px 1px 2px rgba(0, 0, 0, 0.3));\n",
              "      fill: #FFFFFF;\n",
              "    }\n",
              "  </style>\n",
              "\n",
              "      <script>\n",
              "        const buttonEl =\n",
              "          document.querySelector('#df-7466607f-aef1-4451-bd4c-d9b9fba4c3db button.colab-df-convert');\n",
              "        buttonEl.style.display =\n",
              "          google.colab.kernel.accessAllowed ? 'block' : 'none';\n",
              "\n",
              "        async function convertToInteractive(key) {\n",
              "          const element = document.querySelector('#df-7466607f-aef1-4451-bd4c-d9b9fba4c3db');\n",
              "          const dataTable =\n",
              "            await google.colab.kernel.invokeFunction('convertToInteractive',\n",
              "                                                     [key], {});\n",
              "          if (!dataTable) return;\n",
              "\n",
              "          const docLinkHtml = 'Like what you see? Visit the ' +\n",
              "            '<a target=\"_blank\" href=https://colab.research.google.com/notebooks/data_table.ipynb>data table notebook</a>'\n",
              "            + ' to learn more about interactive tables.';\n",
              "          element.innerHTML = '';\n",
              "          dataTable['output_type'] = 'display_data';\n",
              "          await google.colab.output.renderOutput(dataTable, element);\n",
              "          const docLink = document.createElement('div');\n",
              "          docLink.innerHTML = docLinkHtml;\n",
              "          element.appendChild(docLink);\n",
              "        }\n",
              "      </script>\n",
              "    </div>\n",
              "  </div>\n",
              "  "
            ]
          },
          "metadata": {},
          "execution_count": 80
        }
      ]
    },
    {
      "cell_type": "code",
      "source": [
        "# часть землетрясений в датафрейме - это афтершоки, последовавшие за главным толчком в каком-то месяце, и именно главный удар нам нужно предсказать\n",
        "# т.к. для каждого участка в каждом месяце мы должны предсказать магнитуду одного (главного) землетрясения, нужно удалить из датасета все толчки,\n",
        "# произошедшие в один месяц, кроме самого сильного, если их долгота и широта отличаются не больше, чем на (delta_long + 0.005) и (delta_lat + 0.00375)\n",
        "\n",
        "print(catalog.shape)\n",
        "\n",
        "i = 0\n",
        "n = catalog.shape[0] - 1\n",
        "while i != n:\n",
        "  if ((catalog.iloc[i, 0] == catalog.iloc[i+1, 0]) &                                        # YYYY\n",
        "      (catalog.iloc[i, 1] == catalog.iloc[i+1, 1]) &                                        # MM\n",
        "      (np.absolute(catalog.iloc[i, 3] - catalog.iloc[i+1, 3]) <= (-delta_lat + 0.00375)) &  # LAT\n",
        "      (np.absolute(catalog.iloc[i, 4] - catalog.iloc[i+1, 4]) <= (delta_long + 0.005))):    # LONG\n",
        "     if (catalog.iloc[i, 6] <= catalog.iloc[i+1, 6]):\n",
        "        catalog.drop(index=i, axis=0, inplace=True)\n",
        "        catalog.reset_index(drop=True, inplace=True)\n",
        "     else:\n",
        "        catalog.drop(index=i+1, axis=0, inplace=True)\n",
        "        catalog.reset_index(drop=True, inplace=True)\n",
        "     n -= 1\n",
        "  else:\n",
        "    i += 1\n",
        "\n",
        "catalog.shape"
      ],
      "metadata": {
        "colab": {
          "base_uri": "https://localhost:8080/"
        },
        "id": "zykkOQe6HDer",
        "outputId": "b6265422-0c67-40a9-e864-5b56650637f4"
      },
      "execution_count": null,
      "outputs": [
        {
          "output_type": "stream",
          "name": "stdout",
          "text": [
            "(69, 7)\n"
          ]
        },
        {
          "output_type": "execute_result",
          "data": {
            "text/plain": [
              "(56, 7)"
            ]
          },
          "metadata": {},
          "execution_count": 81
        }
      ]
    },
    {
      "cell_type": "code",
      "source": [
        "# добавим колонку с классом (1, если было землетрясение магнитуды 5.0+, иначе 0)\n",
        "catalog['Class'] = 1\n",
        "\n",
        "# выберем те землетрясения, которые произошли в рассматриваемой области\n",
        "targets = catalog[(catalog['LAT'] >= lat_bottom) & (catalog['LAT'] <= lat_top) & (catalog['LONG'] >= long_left) & (catalog['LONG'] <= long_right)]"
      ],
      "metadata": {
        "id": "JYRW8d2pHI06"
      },
      "execution_count": null,
      "outputs": []
    },
    {
      "cell_type": "code",
      "source": [
        "targets.to_excel(\"targets.xlsx\")"
      ],
      "metadata": {
        "id": "CG3rR4oO95sa"
      },
      "execution_count": null,
      "outputs": []
    },
    {
      "cell_type": "code",
      "source": [
        "targets = pd.read_excel('/content/drive/MyDrive/диплом/targets.xlsx')"
      ],
      "metadata": {
        "id": "v2mUWtNxcFnv"
      },
      "execution_count": null,
      "outputs": []
    },
    {
      "cell_type": "markdown",
      "source": [
        "# Объединение признаков и таргета в общий датасет"
      ],
      "metadata": {
        "id": "X94mONcYEBqk"
      }
    },
    {
      "cell_type": "code",
      "source": [
        "# создадим колонки с датами\n",
        "data['Date'] = pd.to_datetime(data[['Year', 'Month', 'Day']])\n",
        "targets['YYYY-MM-DD'] = pd.to_datetime(targets[['YYYY', 'MM', 'DD']].astype('str').T.agg('-'.join))\n",
        "data['First-day-of-forecast'] = data['Date'] + pd.Timedelta(1, unit='D')\n",
        "data['Last-day-of-forecast'] = data['Date'] + pd.Timedelta(31, unit='D')"
      ],
      "metadata": {
        "id": "P2i4pyEFNR-1"
      },
      "execution_count": null,
      "outputs": []
    },
    {
      "cell_type": "code",
      "source": [
        "# объединим датасеты с помощью sql\n",
        "conn = sqlite3.connect(':memory:')\n",
        "\n",
        "data.to_sql('data', conn, index=False)\n",
        "targets.to_sql('targets', conn, index=False)\n",
        "\n",
        "qry = '''\n",
        "    select\n",
        "        *\n",
        "    from\n",
        "        data left join targets on\n",
        "        (targets.'YYYY-MM-DD' between data.'First-day-of-forecast' and data.'Last-day-of-forecast' and\n",
        "        targets.LONG between data.Longitude and data.Longitude + 0.1 and\n",
        "        targets.LAT between data.Latitude and data.Latitude + 0.07535714285714283)\n",
        "    '''\n",
        "dataset = pd.read_sql_query(qry, conn)"
      ],
      "metadata": {
        "id": "ifk6B9DSD8Vi"
      },
      "execution_count": null,
      "outputs": []
    },
    {
      "cell_type": "code",
      "source": [
        "dataset.fillna({'Magnitude': 0, 'Danger level': 0, 'Class': 0}, inplace=True)\n",
        "dataset = dataset.astype({'Danger level': 'int64', 'Class': 'int64'})\n",
        "dataset.drop(['Date', 'First-day-of-forecast', 'Last-day-of-forecast', 'YYYY', 'MM', 'DD', 'LAT', 'LONG', 'Depth', 'YYYY-MM-DD'], axis=1,\n",
        "             inplace=True)"
      ],
      "metadata": {
        "id": "fZCXb6KAIk5i"
      },
      "execution_count": null,
      "outputs": []
    },
    {
      "cell_type": "code",
      "source": [
        "dataset['Class'].value_counts()"
      ],
      "metadata": {
        "colab": {
          "base_uri": "https://localhost:8080/"
        },
        "id": "13Zj_7sRbkO-",
        "outputId": "103d9192-e715-4362-b9c3-d97290150e56"
      },
      "execution_count": null,
      "outputs": [
        {
          "output_type": "execute_result",
          "data": {
            "text/plain": [
              "0    40405\n",
              "1        8\n",
              "Name: Class, dtype: int64"
            ]
          },
          "metadata": {},
          "execution_count": 41
        }
      ]
    },
    {
      "cell_type": "code",
      "source": [
        "dataset.groupby(['Class'])[['F4', 'F5', 'F6']].mean()"
      ],
      "metadata": {
        "colab": {
          "base_uri": "https://localhost:8080/",
          "height": 143
        },
        "id": "FesWqorkLSax",
        "outputId": "e2ef5782-2732-4cd2-c174-a1b016bf81c9"
      },
      "execution_count": null,
      "outputs": [
        {
          "output_type": "execute_result",
          "data": {
            "text/plain": [
              "             F4        F5        F6\n",
              "Class                              \n",
              "0     -0.564271  0.168103  0.652734\n",
              "1     -2.827620  1.376178  3.861411"
            ],
            "text/html": [
              "\n",
              "  <div id=\"df-4f3e0c7d-8867-4a98-989d-a17b5dcf7cb1\">\n",
              "    <div class=\"colab-df-container\">\n",
              "      <div>\n",
              "<style scoped>\n",
              "    .dataframe tbody tr th:only-of-type {\n",
              "        vertical-align: middle;\n",
              "    }\n",
              "\n",
              "    .dataframe tbody tr th {\n",
              "        vertical-align: top;\n",
              "    }\n",
              "\n",
              "    .dataframe thead th {\n",
              "        text-align: right;\n",
              "    }\n",
              "</style>\n",
              "<table border=\"1\" class=\"dataframe\">\n",
              "  <thead>\n",
              "    <tr style=\"text-align: right;\">\n",
              "      <th></th>\n",
              "      <th>F4</th>\n",
              "      <th>F5</th>\n",
              "      <th>F6</th>\n",
              "    </tr>\n",
              "    <tr>\n",
              "      <th>Class</th>\n",
              "      <th></th>\n",
              "      <th></th>\n",
              "      <th></th>\n",
              "    </tr>\n",
              "  </thead>\n",
              "  <tbody>\n",
              "    <tr>\n",
              "      <th>0</th>\n",
              "      <td>-0.564271</td>\n",
              "      <td>0.168103</td>\n",
              "      <td>0.652734</td>\n",
              "    </tr>\n",
              "    <tr>\n",
              "      <th>1</th>\n",
              "      <td>-2.827620</td>\n",
              "      <td>1.376178</td>\n",
              "      <td>3.861411</td>\n",
              "    </tr>\n",
              "  </tbody>\n",
              "</table>\n",
              "</div>\n",
              "      <button class=\"colab-df-convert\" onclick=\"convertToInteractive('df-4f3e0c7d-8867-4a98-989d-a17b5dcf7cb1')\"\n",
              "              title=\"Convert this dataframe to an interactive table.\"\n",
              "              style=\"display:none;\">\n",
              "        \n",
              "  <svg xmlns=\"http://www.w3.org/2000/svg\" height=\"24px\"viewBox=\"0 0 24 24\"\n",
              "       width=\"24px\">\n",
              "    <path d=\"M0 0h24v24H0V0z\" fill=\"none\"/>\n",
              "    <path d=\"M18.56 5.44l.94 2.06.94-2.06 2.06-.94-2.06-.94-.94-2.06-.94 2.06-2.06.94zm-11 1L8.5 8.5l.94-2.06 2.06-.94-2.06-.94L8.5 2.5l-.94 2.06-2.06.94zm10 10l.94 2.06.94-2.06 2.06-.94-2.06-.94-.94-2.06-.94 2.06-2.06.94z\"/><path d=\"M17.41 7.96l-1.37-1.37c-.4-.4-.92-.59-1.43-.59-.52 0-1.04.2-1.43.59L10.3 9.45l-7.72 7.72c-.78.78-.78 2.05 0 2.83L4 21.41c.39.39.9.59 1.41.59.51 0 1.02-.2 1.41-.59l7.78-7.78 2.81-2.81c.8-.78.8-2.07 0-2.86zM5.41 20L4 18.59l7.72-7.72 1.47 1.35L5.41 20z\"/>\n",
              "  </svg>\n",
              "      </button>\n",
              "      \n",
              "  <style>\n",
              "    .colab-df-container {\n",
              "      display:flex;\n",
              "      flex-wrap:wrap;\n",
              "      gap: 12px;\n",
              "    }\n",
              "\n",
              "    .colab-df-convert {\n",
              "      background-color: #E8F0FE;\n",
              "      border: none;\n",
              "      border-radius: 50%;\n",
              "      cursor: pointer;\n",
              "      display: none;\n",
              "      fill: #1967D2;\n",
              "      height: 32px;\n",
              "      padding: 0 0 0 0;\n",
              "      width: 32px;\n",
              "    }\n",
              "\n",
              "    .colab-df-convert:hover {\n",
              "      background-color: #E2EBFA;\n",
              "      box-shadow: 0px 1px 2px rgba(60, 64, 67, 0.3), 0px 1px 3px 1px rgba(60, 64, 67, 0.15);\n",
              "      fill: #174EA6;\n",
              "    }\n",
              "\n",
              "    [theme=dark] .colab-df-convert {\n",
              "      background-color: #3B4455;\n",
              "      fill: #D2E3FC;\n",
              "    }\n",
              "\n",
              "    [theme=dark] .colab-df-convert:hover {\n",
              "      background-color: #434B5C;\n",
              "      box-shadow: 0px 1px 3px 1px rgba(0, 0, 0, 0.15);\n",
              "      filter: drop-shadow(0px 1px 2px rgba(0, 0, 0, 0.3));\n",
              "      fill: #FFFFFF;\n",
              "    }\n",
              "  </style>\n",
              "\n",
              "      <script>\n",
              "        const buttonEl =\n",
              "          document.querySelector('#df-4f3e0c7d-8867-4a98-989d-a17b5dcf7cb1 button.colab-df-convert');\n",
              "        buttonEl.style.display =\n",
              "          google.colab.kernel.accessAllowed ? 'block' : 'none';\n",
              "\n",
              "        async function convertToInteractive(key) {\n",
              "          const element = document.querySelector('#df-4f3e0c7d-8867-4a98-989d-a17b5dcf7cb1');\n",
              "          const dataTable =\n",
              "            await google.colab.kernel.invokeFunction('convertToInteractive',\n",
              "                                                     [key], {});\n",
              "          if (!dataTable) return;\n",
              "\n",
              "          const docLinkHtml = 'Like what you see? Visit the ' +\n",
              "            '<a target=\"_blank\" href=https://colab.research.google.com/notebooks/data_table.ipynb>data table notebook</a>'\n",
              "            + ' to learn more about interactive tables.';\n",
              "          element.innerHTML = '';\n",
              "          dataTable['output_type'] = 'display_data';\n",
              "          await google.colab.output.renderOutput(dataTable, element);\n",
              "          const docLink = document.createElement('div');\n",
              "          docLink.innerHTML = docLinkHtml;\n",
              "          element.appendChild(docLink);\n",
              "        }\n",
              "      </script>\n",
              "    </div>\n",
              "  </div>\n",
              "  "
            ]
          },
          "metadata": {},
          "execution_count": 42
        }
      ]
    },
    {
      "cell_type": "code",
      "source": [
        "dataset.groupby(['Class'])[['F4', 'F5', 'F6']].median()"
      ],
      "metadata": {
        "colab": {
          "base_uri": "https://localhost:8080/",
          "height": 143
        },
        "id": "p5IbnLKQMTlI",
        "outputId": "d2674f65-68c4-4c42-c45f-fff18a8f320e"
      },
      "execution_count": null,
      "outputs": [
        {
          "output_type": "execute_result",
          "data": {
            "text/plain": [
              "             F4        F5        F6\n",
              "Class                              \n",
              "0     -0.361157 -0.011640  0.308147\n",
              "1     -1.834378 -1.833199  2.262221"
            ],
            "text/html": [
              "\n",
              "  <div id=\"df-f2141891-5db6-489c-8bfa-4bbce219299d\">\n",
              "    <div class=\"colab-df-container\">\n",
              "      <div>\n",
              "<style scoped>\n",
              "    .dataframe tbody tr th:only-of-type {\n",
              "        vertical-align: middle;\n",
              "    }\n",
              "\n",
              "    .dataframe tbody tr th {\n",
              "        vertical-align: top;\n",
              "    }\n",
              "\n",
              "    .dataframe thead th {\n",
              "        text-align: right;\n",
              "    }\n",
              "</style>\n",
              "<table border=\"1\" class=\"dataframe\">\n",
              "  <thead>\n",
              "    <tr style=\"text-align: right;\">\n",
              "      <th></th>\n",
              "      <th>F4</th>\n",
              "      <th>F5</th>\n",
              "      <th>F6</th>\n",
              "    </tr>\n",
              "    <tr>\n",
              "      <th>Class</th>\n",
              "      <th></th>\n",
              "      <th></th>\n",
              "      <th></th>\n",
              "    </tr>\n",
              "  </thead>\n",
              "  <tbody>\n",
              "    <tr>\n",
              "      <th>0</th>\n",
              "      <td>-0.361157</td>\n",
              "      <td>-0.011640</td>\n",
              "      <td>0.308147</td>\n",
              "    </tr>\n",
              "    <tr>\n",
              "      <th>1</th>\n",
              "      <td>-1.834378</td>\n",
              "      <td>-1.833199</td>\n",
              "      <td>2.262221</td>\n",
              "    </tr>\n",
              "  </tbody>\n",
              "</table>\n",
              "</div>\n",
              "      <button class=\"colab-df-convert\" onclick=\"convertToInteractive('df-f2141891-5db6-489c-8bfa-4bbce219299d')\"\n",
              "              title=\"Convert this dataframe to an interactive table.\"\n",
              "              style=\"display:none;\">\n",
              "        \n",
              "  <svg xmlns=\"http://www.w3.org/2000/svg\" height=\"24px\"viewBox=\"0 0 24 24\"\n",
              "       width=\"24px\">\n",
              "    <path d=\"M0 0h24v24H0V0z\" fill=\"none\"/>\n",
              "    <path d=\"M18.56 5.44l.94 2.06.94-2.06 2.06-.94-2.06-.94-.94-2.06-.94 2.06-2.06.94zm-11 1L8.5 8.5l.94-2.06 2.06-.94-2.06-.94L8.5 2.5l-.94 2.06-2.06.94zm10 10l.94 2.06.94-2.06 2.06-.94-2.06-.94-.94-2.06-.94 2.06-2.06.94z\"/><path d=\"M17.41 7.96l-1.37-1.37c-.4-.4-.92-.59-1.43-.59-.52 0-1.04.2-1.43.59L10.3 9.45l-7.72 7.72c-.78.78-.78 2.05 0 2.83L4 21.41c.39.39.9.59 1.41.59.51 0 1.02-.2 1.41-.59l7.78-7.78 2.81-2.81c.8-.78.8-2.07 0-2.86zM5.41 20L4 18.59l7.72-7.72 1.47 1.35L5.41 20z\"/>\n",
              "  </svg>\n",
              "      </button>\n",
              "      \n",
              "  <style>\n",
              "    .colab-df-container {\n",
              "      display:flex;\n",
              "      flex-wrap:wrap;\n",
              "      gap: 12px;\n",
              "    }\n",
              "\n",
              "    .colab-df-convert {\n",
              "      background-color: #E8F0FE;\n",
              "      border: none;\n",
              "      border-radius: 50%;\n",
              "      cursor: pointer;\n",
              "      display: none;\n",
              "      fill: #1967D2;\n",
              "      height: 32px;\n",
              "      padding: 0 0 0 0;\n",
              "      width: 32px;\n",
              "    }\n",
              "\n",
              "    .colab-df-convert:hover {\n",
              "      background-color: #E2EBFA;\n",
              "      box-shadow: 0px 1px 2px rgba(60, 64, 67, 0.3), 0px 1px 3px 1px rgba(60, 64, 67, 0.15);\n",
              "      fill: #174EA6;\n",
              "    }\n",
              "\n",
              "    [theme=dark] .colab-df-convert {\n",
              "      background-color: #3B4455;\n",
              "      fill: #D2E3FC;\n",
              "    }\n",
              "\n",
              "    [theme=dark] .colab-df-convert:hover {\n",
              "      background-color: #434B5C;\n",
              "      box-shadow: 0px 1px 3px 1px rgba(0, 0, 0, 0.15);\n",
              "      filter: drop-shadow(0px 1px 2px rgba(0, 0, 0, 0.3));\n",
              "      fill: #FFFFFF;\n",
              "    }\n",
              "  </style>\n",
              "\n",
              "      <script>\n",
              "        const buttonEl =\n",
              "          document.querySelector('#df-f2141891-5db6-489c-8bfa-4bbce219299d button.colab-df-convert');\n",
              "        buttonEl.style.display =\n",
              "          google.colab.kernel.accessAllowed ? 'block' : 'none';\n",
              "\n",
              "        async function convertToInteractive(key) {\n",
              "          const element = document.querySelector('#df-f2141891-5db6-489c-8bfa-4bbce219299d');\n",
              "          const dataTable =\n",
              "            await google.colab.kernel.invokeFunction('convertToInteractive',\n",
              "                                                     [key], {});\n",
              "          if (!dataTable) return;\n",
              "\n",
              "          const docLinkHtml = 'Like what you see? Visit the ' +\n",
              "            '<a target=\"_blank\" href=https://colab.research.google.com/notebooks/data_table.ipynb>data table notebook</a>'\n",
              "            + ' to learn more about interactive tables.';\n",
              "          element.innerHTML = '';\n",
              "          dataTable['output_type'] = 'display_data';\n",
              "          await google.colab.output.renderOutput(dataTable, element);\n",
              "          const docLink = document.createElement('div');\n",
              "          docLink.innerHTML = docLinkHtml;\n",
              "          element.appendChild(docLink);\n",
              "        }\n",
              "      </script>\n",
              "    </div>\n",
              "  </div>\n",
              "  "
            ]
          },
          "metadata": {},
          "execution_count": 43
        }
      ]
    },
    {
      "cell_type": "code",
      "source": [
        "dataset.to_excel(\"dataset.xlsx\")"
      ],
      "metadata": {
        "id": "4OTjxrvAXuh-"
      },
      "execution_count": null,
      "outputs": []
    },
    {
      "cell_type": "code",
      "source": [
        "dataset = pd.read_excel('/content/drive/MyDrive/диплом/dataset.xlsx')"
      ],
      "metadata": {
        "id": "qcra_zSNWKcu"
      },
      "execution_count": null,
      "outputs": []
    },
    {
      "cell_type": "code",
      "source": [
        "mag_ = 6.5\n",
        "\n",
        "# нарисуем график для временного ряда значений F4, F5, F6\n",
        "long_ = dataset[dataset['Magnitude'] == mag_]['Longitude'].item()\n",
        "lat_ = dataset[dataset['Magnitude'] == mag_]['Latitude'].item()\n",
        "\n",
        "date = pd.to_datetime(dataset[dataset['Magnitude'] == mag_][['Year', 'Month', 'Day']].astype(str)).item()\n",
        "\n",
        "f4_ts = dataset[(dataset['Longitude'] == long_) & (dataset['Latitude'] == lat_)]['F4']\n",
        "f5_ts = dataset[(dataset['Longitude'] == long_) & (dataset['Latitude'] == lat_)]['F5']\n",
        "f6_ts = dataset[(dataset['Longitude'] == long_) & (dataset['Latitude'] == lat_)]['F6']\n",
        "\n",
        "plt.figure(figsize=(10, 6))\n",
        "\n",
        "plt.subplot(3, 1, 1)\n",
        "plt.plot(date_points, f4_ts, label='временные ряды значений геодинамических признаков')\n",
        "plt.axvline(date, color='orangered', linestyle='--', label=f'значение, рассчитанное {date.date()}')\n",
        "plt.ylabel('Дивергенция')\n",
        "plt.legend()\n",
        "\n",
        "plt.subplot(3, 1, 2)\n",
        "plt.plot(date_points, f5_ts)\n",
        "plt.axvline(date, color='orangered', linestyle='--')\n",
        "plt.ylabel('Ротор')\n",
        "\n",
        "plt.subplot(3, 1, 3)\n",
        "plt.plot(date_points, f6_ts)\n",
        "plt.axvline(date, color='orangered', linestyle='--')\n",
        "plt.xlabel('Год')\n",
        "plt.ylabel('Сдвиг')\n",
        "\n",
        "plt.show()"
      ],
      "metadata": {
        "id": "gXX7yMRunV5o",
        "colab": {
          "base_uri": "https://localhost:8080/",
          "height": 542
        },
        "outputId": "ea47c2f3-dc21-4592-c531-6f1b7ec4408e"
      },
      "execution_count": null,
      "outputs": [
        {
          "output_type": "display_data",
          "data": {
            "text/plain": [
              "<Figure size 1000x600 with 3 Axes>"
            ],
            "image/png": "[encoded data removed]"
          },
          "metadata": {}
        }
      ]
    },
    {
      "cell_type": "code",
      "source": [
        "fig, ax = plt.subplots(3, 1, figsize=(10, 6), sharex = True)\n",
        "ax[0].plot(date_points, f4_ts, label='временные ряды значений геодинамических признаков')\n",
        "ax[0].axvline(date, color='orangered', linestyle='--', label=f'значение, рассчитанное {date.date()}')\n",
        "ax[0].set_ylabel('Дивергенция')\n",
        "ax[0].legend()\n",
        "ax[1].plot(date_points, f5_ts)\n",
        "ax[1].axvline(date, color='orangered', linestyle='--')\n",
        "ax[1].set_ylabel('Ротор')\n",
        "ax[2].plot(date_points, f6_ts)\n",
        "ax[2].axvline(date, color='orangered', linestyle='--')\n",
        "ax[2].set_xlabel('Год')\n",
        "ax[2].set_ylabel('Сдвиг')\n",
        "\n",
        "plt.show()"
      ],
      "metadata": {
        "colab": {
          "base_uri": "https://localhost:8080/",
          "height": 542
        },
        "id": "9FH6vll1nVt1",
        "outputId": "543a177e-1ad9-4ace-daad-881a477644b9"
      },
      "execution_count": null,
      "outputs": [
        {
          "output_type": "display_data",
          "data": {
            "text/plain": [
              "<Figure size 1000x600 with 3 Axes>"
            ],
            "image/png": "[encoded data removed]"
          },
          "metadata": {}
        }
      ]
    },
    {
      "cell_type": "markdown",
      "source": [
        "# Построение модели"
      ],
      "metadata": {
        "id": "H1CA_7qoMQyz"
      }
    },
    {
      "cell_type": "code",
      "source": [
        "dataset = pd.read_excel('/content/drive/MyDrive/диплом/dataset.xlsx')"
      ],
      "metadata": {
        "id": "9DvjNReljMB5"
      },
      "execution_count": null,
      "outputs": []
    },
    {
      "cell_type": "code",
      "source": [
        "data_for_train = dataset[['F4', 'F5', 'F6', 'S9', 'S11', 'Class']]\n",
        "\n",
        "# нормализуем данные\n",
        "scaler = MinMaxScaler()\n",
        "scaler = scaler.fit(data_for_train[['F4', 'F5', 'F6', 'S9', 'S11']])\n",
        "data_for_train_scaled = scaler.transform(data_for_train[['F4', 'F5', 'F6', 'S9', 'S11']])\n",
        "dataset = pd.concat([pd.DataFrame(data_for_train_scaled, columns=['F4', 'F5', 'F6', 'S9', 'S11']), data_for_train['Class']], axis=1)"
      ],
      "metadata": {
        "id": "MtA7vMYHjL-x"
      },
      "execution_count": null,
      "outputs": []
    },
    {
      "cell_type": "code",
      "source": [
        "# наблюдается сильный дисбаланс классов (всего 8 землетрясений за все время <=> только 8 объектов класса 1)\n",
        "# из-за этого не можем обучать модель на всем наборе данных\n",
        "# обучим 100 деревьев решений, каждое - на рандомной подвыборке класса 0 и фиксированных 70% объектов класса 1\n",
        "zeros = dataset[dataset['Class'] == 0].index\n",
        "ones = dataset[dataset['Class'] == 1].index\n",
        "\n",
        "ones_train = ones[:int(0.7 * ones.shape[0])]\n",
        "ones_test = ones[int(0.7 * ones.shape[0]):]\n",
        "\n",
        "n_estimators = 100\n",
        "zeros_num_for_train = int(0.7 * ones.shape[0])\n",
        "zeros_num_for_test = ones.shape[0] - int(0.7 * ones.shape[0])"
      ],
      "metadata": {
        "id": "smGd42mtjL7x"
      },
      "execution_count": null,
      "outputs": []
    },
    {
      "cell_type": "code",
      "source": [
        "geodynamic_features = ['F4', 'F5', 'F6']\n",
        "seismological_features = ['S9', 'S11']\n",
        "both_types_of_features = ['F4', 'F5', 'F6', 'S9', 'S11']\n",
        "\n",
        "\n",
        "def rf_train(type_of_features):\n",
        "  clf_s = list()\n",
        "  feature_importances = list()\n",
        "\n",
        "  for i in range(0, n_estimators):\n",
        "    # создадим датасет для обучения дерева\n",
        "    idxs = np.random.choice(zeros, size=zeros_num_for_train, replace=False)\n",
        "    zeros_subset_for_train = dataset.iloc[idxs]\n",
        "    dataset_for_train = pd.concat([zeros_subset_for_train, dataset.iloc[ones_train]])\n",
        "    X = dataset_for_train[type_of_features]\n",
        "    y = dataset_for_train['Class']\n",
        "    X, y = shuffle(X, y, random_state=0)\n",
        "\n",
        "    # обучим дерево\n",
        "    clf = tree.DecisionTreeClassifier(max_depth=2, min_samples_leaf=2)\n",
        "    clf = clf.fit(X, y)\n",
        "\n",
        "    clf_s.append(clf)\n",
        "    feature_importances.append(np.argmax(clf.feature_importances_))\n",
        "\n",
        "  return clf_s, feature_importances"
      ],
      "metadata": {
        "id": "xWK1S75h-yyA"
      },
      "execution_count": null,
      "outputs": []
    },
    {
      "cell_type": "code",
      "source": [
        "def rf_test(type_of_features, clf_s, feature_importances):\n",
        "  idxs = np.random.choice(zeros, size=zeros_num_for_test, replace=False)\n",
        "  zeros_subset_for_test = dataset.iloc[idxs]\n",
        "  dataset_for_test = pd.concat([zeros_subset_for_test, dataset.iloc[ones_test]])\n",
        "  X_test = dataset_for_test[type_of_features]\n",
        "  y_test = dataset_for_test['Class']\n",
        "\n",
        "  pod_values = list()\n",
        "  far_values = list()\n",
        "\n",
        "  for i in range(0, n_estimators):\n",
        "    y_pred = clf_s[i].predict(X_test)\n",
        "\n",
        "    CM = confusion_matrix(y_test, y_pred)\n",
        "    TN = CM[0][0]\n",
        "    FN = CM[1][0]\n",
        "    TP = CM[1][1]\n",
        "    FP = CM[0][1]\n",
        "    clf_pod = TP/(TP + FN)\n",
        "    clf_far = FP/(TN + FP)\n",
        "\n",
        "    pod_values.append(clf_pod)\n",
        "    far_values.append(clf_far)\n",
        "\n",
        "\n",
        "  pod_final = np.mean(pod_values)\n",
        "  far_final = np.mean(far_values)\n",
        "\n",
        "  scores = f'Средние значения метрик: \\nPOD: {np.round(pod_final, 3)} \\nFAR: {np.round(far_final, 3)} \\nR: {np.round(pod_final - far_final, 3)}'\n",
        "  return print(scores)"
      ],
      "metadata": {
        "id": "thQ2qCo2pGt5"
      },
      "execution_count": null,
      "outputs": []
    },
    {
      "cell_type": "code",
      "source": [
        "# вариант 1: используем для обучения модели только геодинамические признаки\n",
        "clf_s, feature_importances = rf_train(geodynamic_features)\n",
        "rf_test(geodynamic_features, clf_s, feature_importances)\n",
        "\n",
        "# найдем самый значимый признак\n",
        "mode = statistics.mode(feature_importances)\n",
        "print(f'\\nНаиболее важный признак: {geodynamic_features[mode]}')"
      ],
      "metadata": {
        "colab": {
          "base_uri": "https://localhost:8080/"
        },
        "id": "bgA0-yNsRO_D",
        "outputId": "b288e5e3-0844-4a36-aa47-36b09ef59831"
      },
      "execution_count": null,
      "outputs": [
        {
          "output_type": "stream",
          "name": "stdout",
          "text": [
            "Средние значения метрик: \n",
            "POD: 0.457 \n",
            "FAR: 0.415 \n",
            "R: 0.042\n",
            "\n",
            "Наиболее важный признак: F4\n"
          ]
        }
      ]
    },
    {
      "cell_type": "code",
      "source": [
        "# вариант 2: используем для обучения модели только сейсмологические признаки\n",
        "clf_s, feature_importances = rf_train(seismological_features)\n",
        "rf_test(seismological_features, clf_s, feature_importances)\n",
        "\n",
        "# найдем самый значимый признак\n",
        "mode = statistics.mode(feature_importances)\n",
        "print(f'\\nНаиболее важный признак: {seismological_features[mode]}')"
      ],
      "metadata": {
        "colab": {
          "base_uri": "https://localhost:8080/"
        },
        "id": "Rq5eMmVYSH9M",
        "outputId": "3a13b9b0-f8e0-49a9-8ff7-5d8f7d08e9cc"
      },
      "execution_count": null,
      "outputs": [
        {
          "output_type": "stream",
          "name": "stdout",
          "text": [
            "Средние значения метрик: \n",
            "POD: 0.503 \n",
            "FAR: 0.26 \n",
            "R: 0.243\n",
            "\n",
            "Наиболее важный признак: S11\n"
          ]
        }
      ]
    },
    {
      "cell_type": "code",
      "source": [
        "# вариант 3: используем для обучения модели одновременно два типа признаков\n",
        "clf_s, feature_importances = rf_train(both_types_of_features)\n",
        "rf_test(both_types_of_features, clf_s, feature_importances)\n",
        "\n",
        "# найдем самый значимый признак\n",
        "mode = statistics.mode(feature_importances)\n",
        "print(f'\\nНаиболее важный признак: {both_types_of_features[mode]}')"
      ],
      "metadata": {
        "colab": {
          "base_uri": "https://localhost:8080/"
        },
        "id": "lUEerxEtShqA",
        "outputId": "e0e351b9-29c2-47f7-8e93-9baede43b096"
      },
      "execution_count": null,
      "outputs": [
        {
          "output_type": "stream",
          "name": "stdout",
          "text": [
            "Средние значения метрик: \n",
            "POD: 0.447 \n",
            "FAR: 0.345 \n",
            "R: 0.102\n",
            "\n",
            "Наиболее важный признак: S11\n"
          ]
        }
      ]
    },
    {
      "cell_type": "code",
      "source": [],
      "metadata": {
        "id": "ULllofdyEy1j"
      },
      "execution_count": null,
      "outputs": []
    },
    {
      "cell_type": "code",
      "source": [
        "# попробуем искусственно увеличить число объектов класса 1\n",
        "f4_real = dataset[dataset['Class'] == 1]['F4']\n",
        "f5_real = dataset[dataset['Class'] == 1]['F5']\n",
        "f6_real = dataset[dataset['Class'] == 1]['F6']\n",
        "s9_real = dataset[dataset['Class'] == 1]['S9']\n",
        "s11_real = dataset[dataset['Class'] == 1]['S11']\n",
        "class_ = 1\n",
        "\n",
        "for i in range(0, 20):\n",
        "  f4 = np.random.choice(f4_real, size=1, replace=False).item()\n",
        "  f5 = np.random.choice(f5_real, size=1, replace=False).item()\n",
        "  f6 = np.random.choice(f6_real, size=1, replace=False).item()\n",
        "  s9 = np.random.choice(s9_real, size=1, replace=False).item()\n",
        "  s11 = np.random.choice(s11_real, size=1, replace=False).item()\n",
        "\n",
        "  dataset = dataset.append(pd.DataFrame(np.array([f4, f5, f5, s9, s11, class_]).reshape(1, -1), columns=dataset.columns), ignore_index=True)"
      ],
      "metadata": {
        "id": "mU5v0KMyEyx7"
      },
      "execution_count": null,
      "outputs": []
    },
    {
      "cell_type": "code",
      "source": [
        "# обучим 100 деревьев решений, каждое - на рандомной подвыборке класса 0 и фиксированных 70% объектов класса 1\n",
        "zeros = dataset[dataset['Class'] == 0].index\n",
        "ones = dataset[dataset['Class'] == 1].index\n",
        "\n",
        "ones_train = ones[:int(0.7 * ones.shape[0])]\n",
        "ones_test = ones[int(0.7 * ones.shape[0]):]\n",
        "\n",
        "n_estimators = 100\n",
        "zeros_num_for_train = int(0.7 * ones.shape[0])\n",
        "zeros_num_for_test = int(0.3 * ones.shape[0])"
      ],
      "metadata": {
        "id": "wtTXUhBqLyKc"
      },
      "execution_count": null,
      "outputs": []
    },
    {
      "cell_type": "code",
      "source": [
        "# вариант 1: используем для обучения модели только геодинамические признаки\n",
        "clf_s, feature_importances = rf_train(geodynamic_features)\n",
        "rf_test(geodynamic_features, clf_s, feature_importances)\n",
        "\n",
        "# найдем самый значимый признак\n",
        "mode = statistics.mode(feature_importances)\n",
        "print(f'\\nНаиболее важный признак: {geodynamic_features[mode]}')"
      ],
      "metadata": {
        "colab": {
          "base_uri": "https://localhost:8080/"
        },
        "id": "8nQYPldnTfv5",
        "outputId": "c53ea5fc-86ef-420a-804b-0a0ab3790a87"
      },
      "execution_count": null,
      "outputs": [
        {
          "output_type": "stream",
          "name": "stdout",
          "text": [
            "Средние значения метрик: \n",
            "POD: 0.751 \n",
            "FAR: 0.184 \n",
            "R: 0.567\n",
            "\n",
            "Наиболее важный признак: F6\n"
          ]
        }
      ]
    },
    {
      "cell_type": "code",
      "source": [
        "# вариант 2: используем для обучения модели только сейсмологические признаки\n",
        "clf_s, feature_importances = rf_train(seismological_features)\n",
        "rf_test(seismological_features, clf_s, feature_importances)\n",
        "\n",
        "# найдем самый значимый признак\n",
        "mode = statistics.mode(feature_importances)\n",
        "print(f'\\nНаиболее важный признак: {seismological_features[mode]}')"
      ],
      "metadata": {
        "colab": {
          "base_uri": "https://localhost:8080/"
        },
        "id": "ApZhoOZnLyE4",
        "outputId": "554d42f9-9c75-4378-ca28-98512ad326ac"
      },
      "execution_count": null,
      "outputs": [
        {
          "output_type": "stream",
          "name": "stdout",
          "text": [
            "Средние значения метрик: \n",
            "POD: 0.462 \n",
            "FAR: 0.04 \n",
            "R: 0.422\n",
            "\n",
            "Наиболее важный признак: S11\n"
          ]
        }
      ]
    },
    {
      "cell_type": "code",
      "source": [
        "# вариант 3: используем для обучения модели одновременно два типа признаков\n",
        "clf_s, feature_importances = rf_train(both_types_of_features)\n",
        "rf_test(both_types_of_features, clf_s, feature_importances)\n",
        "\n",
        "# найдем самый значимый признак\n",
        "mode = statistics.mode(feature_importances)\n",
        "print(f'\\nНаиболее важный признак: {both_types_of_features[mode]}')"
      ],
      "metadata": {
        "colab": {
          "base_uri": "https://localhost:8080/"
        },
        "id": "nORL0i41LyCw",
        "outputId": "78cd7be5-e920-4a1e-cd45-e3feba0bb4f7"
      },
      "execution_count": null,
      "outputs": [
        {
          "output_type": "stream",
          "name": "stdout",
          "text": [
            "Средние значения метрик: \n",
            "POD: 0.762 \n",
            "FAR: 0.135 \n",
            "R: 0.627\n",
            "\n",
            "Наиболее важный признак: S11\n"
          ]
        }
      ]
    },
    {
      "cell_type": "code",
      "source": [],
      "metadata": {
        "id": "VsLyPMlwUcBZ"
      },
      "execution_count": null,
      "outputs": []
    }
  ]
}